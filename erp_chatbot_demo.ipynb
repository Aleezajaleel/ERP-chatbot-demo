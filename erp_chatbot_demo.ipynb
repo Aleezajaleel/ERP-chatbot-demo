{
 "cells": [
  {
   "cell_type": "markdown",
   "id": "6e91c684",
   "metadata": {},
   "source": [
    "# ERP Chatbot Advanced — Walkthrough"
   ]
  },
  {
   "cell_type": "markdown",
   "id": "64d23e2f",
   "metadata": {},
   "source": [
    "This notebook explains the demo architecture and how to swap the file-based store for Oracle ERP."
   ]
  },
  {
   "cell_type": "code",
   "execution_count": null,
   "id": "f798c77b",
   "metadata": {},
   "outputs": [],
   "source": [
    "from backend import data_access as dao\n",
    "print('Members:', list(dao.load_members().keys()))"
   ]
  },
  {
   "cell_type": "markdown",
   "id": "4296d251",
   "metadata": {},
   "source": [
    "## Generate a sample certificate"
   ]
  },
  {
   "cell_type": "code",
   "execution_count": null,
   "id": "d4929bc1",
   "metadata": {},
   "outputs": [],
   "source": [
    "import os\n",
    "os.makedirs('certificates', exist_ok=True)\n",
    "from backend import data_access as dao\n",
    "dao.generate_certificate('M001', 'certificates/M001_certificate.pdf')\n",
    "print('Generated certificates/M001_certificate.pdf')"
   ]
  }
 ],
 "metadata": {},
 "nbformat": 4,
 "nbformat_minor": 5
}
